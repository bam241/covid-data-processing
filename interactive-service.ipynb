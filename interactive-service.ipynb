{
 "cells": [
  {
   "cell_type": "code",
   "execution_count": 1,
   "metadata": {
    "extensions": {
     "jupyter_dashboards": {
      "version": 1,
      "views": {
       "grid_default": {
        "hidden": true
       },
       "report_default": {}
      }
     }
    }
   },
   "outputs": [],
   "source": [
    "#%matplotlib widget\n",
    "import ipywidgets as widgets\n",
    "import ipyvuetify as v\n",
    "from ipywidgets import interact_manual\n",
    "from IPython.display import display"
   ]
  },
  {
   "cell_type": "code",
   "execution_count": 21,
   "metadata": {
    "extensions": {
     "jupyter_dashboards": {
      "version": 1,
      "views": {
       "grid_default": {
        "hidden": true
       },
       "report_default": {}
      }
     }
    }
   },
   "outputs": [],
   "source": [
    "from matplotlib import pyplot as plt\n",
    "#import ipympl\n",
    "\n",
    "import plots\n"
   ]
  },
  {
   "cell_type": "code",
   "execution_count": 48,
   "metadata": {
    "extensions": {
     "jupyter_dashboards": {
      "version": 1,
      "views": {
       "grid_default": {
        "col": 8,
        "height": 40,
        "row": 0,
        "width": 4
       },
       "report_default": {}
      }
     }
    }
   },
   "outputs": [
    {
     "name": "stdout",
     "output_type": "stream",
     "text": [
      "Following countries are available ['Afghanistan' 'Albania' 'Algeria' 'Andorra' 'Angola'\n",
      " 'Antigua and Barbuda' 'Argentina' 'Armenia' 'Australia' 'Austria'\n",
      " 'Azerbaijan' 'Bahamas, The' 'Bahrain' 'Bangladesh' 'Barbados' 'Belarus'\n",
      " 'Belgium' 'Benin' 'Bhutan' 'Bolivia' 'Bosnia and Herzegovina' 'Brazil'\n",
      " 'Brunei' 'Bulgaria' 'Burkina Faso' 'Cabo Verde' 'Cambodia' 'Cameroon'\n",
      " 'Canada' 'Cape Verde' 'Central African Republic' 'Chad' 'Chile' 'China'\n",
      " 'Colombia' 'Congo (Brazzaville)' 'Congo (Kinshasa)' 'Costa Rica'\n",
      " \"Cote d'Ivoire\" 'Croatia' 'Cruise Ship' 'Cuba' 'Cyprus' 'Czechia'\n",
      " 'Denmark' 'Djibouti' 'Dominican Republic' 'East Timor' 'Ecuador' 'Egypt'\n",
      " 'El Salvador' 'Equatorial Guinea' 'Eritrea' 'Estonia' 'Eswatini'\n",
      " 'Ethiopia' 'Fiji' 'Finland' 'France' 'Gabon' 'Gambia, The' 'Georgia'\n",
      " 'Germany' 'Ghana' 'Greece' 'Guatemala' 'Guinea' 'Guyana' 'Haiti'\n",
      " 'Holy See' 'Honduras' 'Hungary' 'Iceland' 'India' 'Indonesia' 'Iran'\n",
      " 'Iraq' 'Ireland' 'Israel' 'Italy' 'Jamaica' 'Japan' 'Jordan' 'Kazakhstan'\n",
      " 'Kenya' 'Korea, South' 'Kosovo' 'Kuwait' 'Kyrgyzstan' 'Latvia' 'Lebanon'\n",
      " 'Liberia' 'Liechtenstein' 'Lithuania' 'Luxembourg' 'Madagascar'\n",
      " 'Malaysia' 'Maldives' 'Malta' 'Martinique' 'Mauritania' 'Mauritius'\n",
      " 'Mexico' 'Moldova' 'Monaco' 'Mongolia' 'Montenegro' 'Morocco' 'Namibia'\n",
      " 'Nepal' 'Netherlands' 'New Zealand' 'Nicaragua' 'Niger' 'Nigeria'\n",
      " 'North Macedonia' 'Norway' 'Oman' 'Pakistan' 'Panama' 'Papua New Guinea'\n",
      " 'Paraguay' 'Peru' 'Philippines' 'Poland' 'Portugal' 'Qatar' 'Romania'\n",
      " 'Russia' 'Rwanda' 'Saint Lucia' 'Saint Vincent and the Grenadines'\n",
      " 'San Marino' 'Saudi Arabia' 'Senegal' 'Serbia' 'Seychelles' 'Singapore'\n",
      " 'Slovakia' 'Slovenia' 'Somalia' 'South Africa' 'Spain' 'Sri Lanka'\n",
      " 'Sudan' 'Suriname' 'Sweden' 'Switzerland' 'Taiwan*' 'Tanzania' 'Thailand'\n",
      " 'Togo' 'Trinidad and Tobago' 'Tunisia' 'Turkey' 'US' 'Uganda' 'Ukraine'\n",
      " 'United Arab Emirates' 'United Kingdom' 'Uruguay' 'Uzbekistan'\n",
      " 'Venezuela' 'Vietnam' 'Zambia' 'Zimbabwe']\n"
     ]
    }
   ],
   "source": [
    "confirmed, deaths, recovered = plots.parse_country_data()\n",
    "print(f\"Following countries are available {confirmed.index.values}\")\n",
    "default_countries = \"Italy, China, Germany, US\""
   ]
  },
  {
   "cell_type": "code",
   "execution_count": 63,
   "metadata": {
    "extensions": {
     "jupyter_dashboards": {
      "version": 1,
      "views": {
       "grid_default": {
        "col": 0,
        "height": 6,
        "row": 0,
        "width": 4
       },
       "report_default": {}
      }
     }
    }
   },
   "outputs": [],
   "source": [
    "def reset_plots():\n",
    "    plt.close('all')\n",
    "    \n",
    "btn_generate = v.Btn(children=['Render plots'])"
   ]
  },
  {
   "cell_type": "code",
   "execution_count": 67,
   "metadata": {
    "extensions": {
     "jupyter_dashboards": {
      "version": 1,
      "views": {
       "grid_default": {
        "height": 50,
        "width": 8
       },
       "report_default": {}
      }
     }
    }
   },
   "outputs": [],
   "source": [
    "country_selector = v.Combobox(dense=True, multiple=True, v_model=[\"Germany\", \"Italy\", \"US\"], items=confirmed.index.values.tolist())\n",
    "def get_countries():\n",
    "    return country_selector.v_model\n",
    "    \n",
    "    return [c.strip() for c in country_selector.value.split(',')]\n",
    "\n",
    "output_total_confirmed = widgets.Output()\n",
    "output_total_deaths = widgets.Output()\n",
    "output_cases_since = widgets.Output()\n",
    "output_error = widgets.Output()\n",
    "def all_plots(widget, event, data):\n",
    "    try:\n",
    "        reset_plots()\n",
    "\n",
    "        with output_cases_since:\n",
    "            output_cases_since.clear_output()\n",
    "            display(plots.semilog_cases_since(get_countries()).get_figure())\n",
    "            \n",
    "        with output_total_confirmed:\n",
    "            output_total_confirmed.clear_output()\n",
    "            display(plots.generate_absolute_plot(confirmed, get_countries(), title=\"Confirmed cases\").get_figure())\n",
    "\n",
    "        with output_total_deaths:\n",
    "            output_total_deaths.clear_output()\n",
    "            display(plots.generate_absolute_plot(deaths, get_countries(), title=\"Deaths\").get_figure())\n",
    "        \n",
    "    except Exception as e:\n",
    "        with output_error:\n",
    "            print(e)\n",
    "    \n",
    "btn_generate.on_event(\"click\", all_plots)"
   ]
  },
  {
   "cell_type": "code",
   "execution_count": 65,
   "metadata": {},
   "outputs": [
    {
     "data": {
      "application/vnd.jupyter.widget-view+json": {
       "model_id": "a02c18eff45b4acd9b0a5e4d291e73c4",
       "version_major": 2,
       "version_minor": 0
      },
      "text/plain": [
       "Container(children=[Flex(children=[Combobox(dense=True, items=['Afghanistan', 'Albania', 'Algeria', 'Andorra',…"
      ]
     },
     "metadata": {},
     "output_type": "display_data"
    }
   ],
   "source": [
    "v.Container(_metadata={'mount_id': 'content-main'}, children=[\n",
    "    v.Flex(children=[\n",
    "        country_selector,\n",
    "        btn_generate\n",
    "    ]),\n",
    "    v.Container(children=[\n",
    "        v.Row(children=[\n",
    "            v.Col(children=[output_total_confirmed]),\n",
    "            v.Col(children=[output_total_deaths]),\n",
    "            v.Col(children=[output_cases_since])\n",
    "        ])\n",
    "    ])\n",
    "])"
   ]
  },
  {
   "cell_type": "code",
   "execution_count": 66,
   "metadata": {},
   "outputs": [
    {
     "data": {
      "application/vnd.jupyter.widget-view+json": {
       "model_id": "eeb2c451aa5e4ab1b20e2840734a20c0",
       "version_major": 2,
       "version_minor": 0
      },
      "text/plain": [
       "Container(children=[Flex(children=[Output()], lg6=True, xl6=True, xs12=True)])"
      ]
     },
     "metadata": {},
     "output_type": "display_data"
    }
   ],
   "source": [
    "v.Container(_metadata={'mount_id': 'content-nav'}, children=[\n",
    "    v.Flex(xs12=True, lg6=True, xl6=True, children=[\n",
    "        output_error\n",
    "    ])\n",
    "])"
   ]
  },
  {
   "cell_type": "code",
   "execution_count": null,
   "metadata": {},
   "outputs": [],
   "source": []
  }
 ],
 "metadata": {
  "extensions": {
   "jupyter_dashboards": {
    "activeView": "grid_default",
    "version": 1,
    "views": {
     "grid_default": {
      "cellMargin": 10,
      "defaultCellHeight": 20,
      "maxColumns": 12,
      "name": "grid",
      "type": "grid"
     },
     "report_default": {
      "name": "report",
      "type": "report"
     }
    }
   }
  },
  "kernelspec": {
   "display_name": "Python 3",
   "language": "python",
   "name": "python3"
  },
  "language_info": {
   "codemirror_mode": {
    "name": "ipython",
    "version": 3
   },
   "file_extension": ".py",
   "mimetype": "text/x-python",
   "name": "python",
   "nbconvert_exporter": "python",
   "pygments_lexer": "ipython3",
   "version": "3.7.6"
  }
 },
 "nbformat": 4,
 "nbformat_minor": 4
}
